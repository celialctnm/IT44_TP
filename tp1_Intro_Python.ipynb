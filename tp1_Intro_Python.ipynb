{
 "cells": [
  {
   "cell_type": "markdown",
   "metadata": {},
   "source": [
    "# IT44 TP1: Introduction à Python\n",
    "\n",
    "---\n",
    "\n",
    "<table style=\"background: white;\">\n",
    "    <tr style=\"background: white;\">\n",
    "        <td> <img src='img/pythonlogo.jpeg'  width=\"220px\" />\n",
    "            <td> <img src=\"\"  width=\"50px\" />\n",
    "        <td> <img src='img/jupyterlogo.jpeg' width=\"120px\" />\n",
    "    </tr>\n",
    "</table>\n",
    "\n",
    "Dans ce premier TP vous allez revoir les notions de bases de  __Python__. Ce <font color=#F5B041>__Jupyter *Notebook*__</font>, détaille progressivement les fonctions mathématiques élémentaires sous Python en présentant après  un classique \"Hello World\", les commandes usuelles du calcul matriciel, de la représentation graphique des fonctions et comment sauver et utiliser des données dans un fichier externe.\n",
    "\n",
    "Commençons par un script \"Hello World\"\n",
    "\n",
    "## Hello World\n",
    "En général, lorsqu'on travaille avec Python, on exécute des <font color=#F5B041>*fichier*</font> avec l'extension <font color=#F5B041>__.py__</font>, à partir d'un  __terminal__. Pour exécuter le code, on rentrera dans le terminal la commande: `python helloworld.py`. \n",
    "\n",
    "Dans le cas du *hello world* case, le script Python <font color=#F5B041>__helloword.py__</font> peut s'écrire comme suit\n",
    "```Python\n",
    "print(\"Hello World!\")\n",
    "```\n",
    "Pour les TP d'IT44 nous utiliserons des <font color=#F5B041>*__Jupyter Notebook__*</font>. Au lieu d'exécuter des scripts ou programme à partir d'un terminal vous exécuterez les commandes ou les lignes de codes à partir de  __cellules__. Essayons avec une première commande `print(\"Hello World!\")` à exécuter dans la cellule ci-dessous."
   ]
  },
  {
   "cell_type": "code",
   "execution_count": 1,
   "metadata": {},
   "outputs": [
    {
     "name": "stdout",
     "output_type": "stream",
     "text": [
      "Hello World ! \n"
     ]
    }
   ],
   "source": [
    "print(\"Hello World ! \")"
   ]
  },
  {
   "cell_type": "markdown",
   "metadata": {},
   "source": [
    "\n",
    "---\n",
    "\n",
    "## Calcul de base\n",
    "En mathématique et en calcul numérique en particulier nous allons manipuler des nombres. Python distingue les entier `int`, des nombres décimaux `float` ou encore des nombres `complexe`.\n",
    "\n",
    "```Python\n",
    "a = 1 # an integer is called int\n",
    "b = 2\n",
    "c = 3. # this is a decimal value called float or double depending on the precision\n",
    "c1 = -c # you can assign to a variable c1 the value of another variable c\n",
    "d = 1.0e-16\n",
    "e = 7.3e14        \n",
    "f=3+2j # thisis a complex number \n",
    "# without adding libraries, we can perform simple operations: +, -, =, /, *, ** \n",
    "```\n",
    "Que se passe-t-il si on exécute a+c?"
   ]
  },
  {
   "cell_type": "code",
   "execution_count": 2,
   "metadata": {
    "scrolled": true
   },
   "outputs": [
    {
     "name": "stdout",
     "output_type": "stream",
     "text": [
      "4.0\n"
     ]
    }
   ],
   "source": [
    "a = 1\n",
    "c = 3.\n",
    "\n",
    "print(a+c)\n",
    "# la valeur de a + c = float "
   ]
  },
  {
   "cell_type": "markdown",
   "metadata": {},
   "source": [
    "Quelques rappels sur les <font color=#F5B041>__boucles__</font>, pour calculer par exemple des sommes:\n",
    "\n",
    "$$\n",
    "S = \\displaystyle{\\sum_{i = 0}^{n} \\frac{3 \\times i}{(i+1)^2} }\n",
    "$$\n",
    "\n",
    "Une boucle `for` sera obtenu avec la syntaxe suivante:\n",
    "\n",
    "```Python\n",
    "for i in range(...):\n",
    "    expression\n",
    "```\n",
    "\n",
    "Calculer la somme ci-dessus pour différente valeur de $n$."
   ]
  },
  {
   "cell_type": "code",
   "execution_count": 3,
   "metadata": {},
   "outputs": [
    {
     "name": "stdout",
     "output_type": "stream",
     "text": [
      "Pour n = 2, résultat =  0.75\n",
      "Pour n = 6, résultat =  2.875833333333333\n"
     ]
    }
   ],
   "source": [
    "n = 5\n",
    "\n",
    "def sommeBoucle(n):\n",
    "    result = 0\n",
    "    for i in range(n):\n",
    "        result = result + ((3*i)/(i+1)**2)\n",
    "    return result\n",
    "\n",
    "print(\"Pour n = 2, résultat = \", sommeBoucle(2))\n",
    "print(\"Pour n = 6, résultat = \", sommeBoucle(6))\n",
    "    "
   ]
  },
  {
   "cell_type": "markdown",
   "metadata": {},
   "source": [
    "Les commandes `if`, `elif` et `else` permette de définir des conditions d'exécution de certaines commande. La  commande `def` pourra être très utile pour définir des fonctions.\n",
    "\n",
    "```Python\n",
    "# The function \n",
    "def myfunction(x):\n",
    "    if( x == 0 ):             # == means equal to\n",
    "        print(\" x = 0\")\n",
    "        return 1\n",
    "    elif( x <= 10 ):\n",
    "        print(\" x is less or equal to 10 \")\n",
    "        return 2\n",
    "    else:\n",
    "        print(\" x is bigger than 10 \")\n",
    "        return 3\n",
    "    \n",
    "# The main program\n",
    "s = 0\n",
    "n = 15\n",
    "for i in range(n):\n",
    "    c = myfunction(i)\n",
    "    print(\"output value is \", c, \" for x = \", i)\n",
    "```\n",
    "\n",
    "<font color=#3498DB>__Essayer le code ci-dessus__</font>"
   ]
  },
  {
   "cell_type": "code",
   "execution_count": 4,
   "metadata": {},
   "outputs": [
    {
     "name": "stdout",
     "output_type": "stream",
     "text": [
      "Le programme sert à savoir si le nombre rentré en paramètre est plus grand que 10\n",
      " x = 0\n",
      "output value is  1  for x =  0\n",
      " x is less or equal to 10 \n",
      "output value is  2  for x =  1\n",
      " x is less or equal to 10 \n",
      "output value is  2  for x =  2\n",
      " x is less or equal to 10 \n",
      "output value is  2  for x =  3\n",
      " x is less or equal to 10 \n",
      "output value is  2  for x =  4\n",
      " x is less or equal to 10 \n",
      "output value is  2  for x =  5\n",
      " x is less or equal to 10 \n",
      "output value is  2  for x =  6\n",
      " x is less or equal to 10 \n",
      "output value is  2  for x =  7\n",
      " x is less or equal to 10 \n",
      "output value is  2  for x =  8\n",
      " x is less or equal to 10 \n",
      "output value is  2  for x =  9\n",
      " x is less or equal to 10 \n",
      "output value is  2  for x =  10\n",
      " x is bigger than 10 \n",
      "output value is  3  for x =  11\n",
      " x is bigger than 10 \n",
      "output value is  3  for x =  12\n",
      " x is bigger than 10 \n",
      "output value is  3  for x =  13\n",
      " x is bigger than 10 \n",
      "output value is  3  for x =  14\n"
     ]
    }
   ],
   "source": [
    "# The function \n",
    "def myfunction(x):\n",
    "    if( x == 0 ):             # == means equal to\n",
    "        print(\" x = 0\")\n",
    "        return 1\n",
    "    elif( x <= 10 ):\n",
    "        print(\" x is less or equal to 10 \")\n",
    "        return 2\n",
    "    else:\n",
    "        print(\" x is bigger than 10 \")\n",
    "        return 3\n",
    "\n",
    "# The main program\n",
    "\n",
    "print(\"Le programme sert à savoir si le nombre rentré en paramètre est plus grand que 10\")\n",
    "\n",
    "s = 0\n",
    "n = 15\n",
    "for i in range(n):\n",
    "    c = myfunction(i)\n",
    "    print(\"output value is \", c, \" for x = \", i)\n"
   ]
  },
  {
   "cell_type": "markdown",
   "metadata": {},
   "source": [
    "\n",
    "---\n",
    "\n",
    "## Math library\n",
    "\n",
    "Python possède une bibliothèque mathématique assez complète avec un certains nombre de fonctions (comme $cos, sin$) ou encore de nombres ($e,\\pi$) prédéfinis.\n",
    "Pour cela on peut importer la bibliothèque mathématique avec la commande  `from math import *`. Si on souhaite avoir accès à une seule ou quelques fonctions spécifiques de la bibliothèque on peut aussi écrire `from math import cos`. Par exemple:\n",
    "```Python\n",
    "from math import cos, sin, pi, acos, asin\n",
    "a = cos(pi)\n",
    "b = sin(pi)\n",
    "c = sin(pi)**2 + cos(pi)**2\n",
    "print( \"cos(pi) = \", a, \", sin(pi) = \", b, \", a^2 + b^2 = \", c )\n",
    "print( \"acos(a) = \", acos(a), \", asin(b) = \", asin(b) )\n",
    "# if you don't want to add the library you can just call an element with the syntax math.*, e.g. math.exp\n",
    "```\n",
    "<font color=#3498DB>__Essayer le code ci-dessus__</font>"
   ]
  },
  {
   "cell_type": "code",
   "execution_count": 5,
   "metadata": {},
   "outputs": [
    {
     "name": "stdout",
     "output_type": "stream",
     "text": [
      "cos(pi) =  -1.0 , sin(pi) =  1.2246467991473532e-16 , a^2 + b^2 =  1.0\n",
      "acos(a) =  3.141592653589793 , asin(b) =  1.2246467991473532e-16\n",
      "Ce programme sert à calculer cos, sin, asin, acos de x grâce à la librairie math de Python\n"
     ]
    }
   ],
   "source": [
    "from math import cos, sin, pi, acos, asin\n",
    "a = cos(pi)\n",
    "b = sin(pi)\n",
    "c = sin(pi)**2 + cos(pi)**2\n",
    "print( \"cos(pi) = \", a, \", sin(pi) = \", b, \", a^2 + b^2 = \", c )\n",
    "print( \"acos(a) = \", acos(a), \", asin(b) = \", asin(b) )\n",
    "\n",
    "print(\"Ce programme sert à calculer cos, sin, asin, acos de x grâce à la librairie math de Python\")"
   ]
  },
  {
   "cell_type": "markdown",
   "metadata": {},
   "source": [
    "Jeter un coup d'oeil à https://docs.python.org/3/library/math.html (documentation) pour connaitre l'étendue de la bibliothèque math de Python. "
   ]
  },
  {
   "cell_type": "markdown",
   "metadata": {},
   "source": [
    "\n",
    "---\n",
    "\n",
    "## NumPy, la bibliothèque du calcul scientifique\n",
    "\n",
    "La bibliothèque <font color=#F5B041>__NumPy__</font> est l'une des plus importante pour le calcul scientifique sous Python. Elle permet de faire du calcul matriciel, de manipuler des tableaux multidimensionels et possède aussi des outils pour du calcul numérique.  Pour charger Numpy on exécute `import numpy as np` où `np` sera utiliser comme raccourci pour`numpy`. \n",
    "Dans le script qui suit on définit des vecteurs sous forme de tableau unidimensionnel:\n",
    "```Python\n",
    "import numpy as np\n",
    "n = 10\n",
    "u = np.zeros(n) # create a vector with n components of value 0\n",
    "v = np.array( [1, 2, 3, 4, 5] ) # create a vector by specifying the values\n",
    "# Accessors\n",
    "print( \" v(0) = \", v[0])\n",
    "print( \" v(2) = \", v[2])\n",
    "# Accessor to several cells\n",
    "print( \" v(2:4) = \", v[2:4])\n",
    "v[0] = 3.14\n",
    "v[2:4] = [-1., 0.0] # means to set values to the indexes 2 and 3\n",
    "# print a vector\n",
    "print(\" v = \", v)\n",
    "```\n",
    "\n",
    "Que remarquez-vous à propos de la valeur $v(0)$ ?"
   ]
  },
  {
   "cell_type": "code",
   "execution_count": 6,
   "metadata": {},
   "outputs": [
    {
     "name": "stdout",
     "output_type": "stream",
     "text": [
      "v =  [ 3  2 -1  0  5]\n",
      "V(0) =  3  et non 3.14 comme assigné précédemment. Numpy n'a pris que la partie entière du nombre car à la création nous n'avions pas écrit [3.] donc Numpy n'a utilisé qu'un entier.\n"
     ]
    }
   ],
   "source": [
    "import numpy as np\n",
    "n = 10\n",
    "u = np.zeros(n) # create a vector with n components of value 0\n",
    "v = np.array( [1, 2, 3, 4, 5] ) # create a vector by specifying the values\n",
    "# Accessors\n",
    "#print( \" v(0) = \", v[0])\n",
    "#print( \" v(2) = \", v[2])\n",
    "# Accessor to several cells\n",
    "#print( \" v(2:4) = \", v[2:4])\n",
    "v[0] = 3.14\n",
    "v[2:4] = [-1., 0.0] # means to set values to the indexes 2 and 3\n",
    "# print a vector\n",
    "print(\"v = \", v)\n",
    "\n",
    "print(\"V(0) = \",v[0],\" et non 3.14 comme assigné précédemment. Numpy n'a pris que la partie entière du nombre car à la création nous n'avions pas écrit [3.] donc Numpy n'a utilisé qu'un entier.\")"
   ]
  },
  {
   "cell_type": "markdown",
   "metadata": {},
   "source": [
    "Une fois les vecteurs définit sous forme de tableau, regardons les opérations d'addition et de multiplication par un scalaire:\n",
    "```Python\n",
    "u = np.array( [ 1. ,  0,  3.] )\n",
    "v = np.array( [-1. ,  1, -4.] )\n",
    "# Addition and subtraction\n",
    "print( \"u + v = \", u + v, \", v - u = \", v - u )\n",
    "# Assignment statement\n",
    "w = 2. * u - 3 * v\n",
    "print(\"w = \", w)\n",
    "# Product and dot product\n",
    "U = u * v\n",
    "V = np.dot( u,v )\n",
    "print(\"u * v = \", U, \", u . v = \", V)\n",
    "```"
   ]
  },
  {
   "cell_type": "code",
   "execution_count": 7,
   "metadata": {
    "scrolled": true
   },
   "outputs": [
    {
     "name": "stdout",
     "output_type": "stream",
     "text": [
      "u + v =  [ 0.  1. -1.] , v - u =  [-2.  1. -7.]\n",
      "w =  [ 5. -3. 18.]\n",
      "u * v =  [ -1.   0. -12.] , u . v =  -13.0\n"
     ]
    }
   ],
   "source": [
    "u = np.array( [ 1. ,  0,  3.] )\n",
    "v = np.array( [-1. ,  1, -4.] )\n",
    "# Addition and subtraction\n",
    "print( \"u + v = \", u + v, \", v - u = \", v - u )\n",
    "# Assignment statement\n",
    "w = 2. * u - 3 * v\n",
    "print(\"w = \", w)\n",
    "# Product and dot product\n",
    "U = u * v\n",
    "V = np.dot( u,v )\n",
    "print(\"u * v = \", U, \", u . v = \", V)"
   ]
  },
  {
   "cell_type": "markdown",
   "metadata": {},
   "source": [
    "### Matrices et tableaux multidimensionnel\n",
    "Avec <font color=#F5B041>__NumPy__</font>, les vecteurs et les matrices sont du type `array` (tableau). \n",
    "Voici quelques exemples:\n",
    "```Python\n",
    "u = np.array([1,2,3,4])            # this syntax will create a vector of 4 components\n",
    "A = np.array([ [1,2], [3,4]])      # this syntax will create a 2 by 2 matrix\n",
    "B = np.array([[1,2,3],[4,5,6]])    # this syntax will create a 2 by 3 matrix\n",
    "```\n",
    "On construit souvent des matrices, vecteurs en initialisant les objets à zéro et ensuite en renseignant les valeurs que l'on veut attribuer.\n",
    "\n",
    "```Python\n",
    "n = 3\n",
    "m = 4\n",
    "print(\"step 0 - A is a zeros matrix\")\n",
    "A = np.zeros([n,m])\n",
    "print(\"A = \\n\", A, \"\\n\")\n",
    "\n",
    "print(\"step 1 - set to 1 the first component\")\n",
    "A[0][0] = 1.0\n",
    "print(\"A = \\n\", A, \"\\n\")\n",
    "\n",
    "print(\"step 2 - fill the second row of A\")\n",
    "A[1] = [1,2,3,4]\n",
    "print(\"A = \\n\", A, \"\\n\")\n",
    "\n",
    "print(\"step 3 - fill a part of the last row of A\")\n",
    "A[2][1:4] = [2,3,4]\n",
    "print(A)\n",
    "```\n",
    "<font color=#3498DB>__Essayer le code ci-dessus__</font>"
   ]
  },
  {
   "cell_type": "code",
   "execution_count": 8,
   "metadata": {},
   "outputs": [
    {
     "name": "stdout",
     "output_type": "stream",
     "text": [
      "step 0 - A is a zeros matrix\n",
      "A = \n",
      " [[0. 0. 0. 0.]\n",
      " [0. 0. 0. 0.]\n",
      " [0. 0. 0. 0.]] \n",
      "\n",
      "step 1 - set to 1 the first component\n",
      "A = \n",
      " [[1. 0. 0. 0.]\n",
      " [0. 0. 0. 0.]\n",
      " [0. 0. 0. 0.]] \n",
      "\n",
      "step 2 - fill the second row of A\n",
      "A = \n",
      " [[1. 0. 0. 0.]\n",
      " [1. 2. 3. 4.]\n",
      " [0. 0. 0. 0.]] \n",
      "\n",
      "step 3 - fill a part of the last row of A\n",
      "[[1. 0. 0. 0.]\n",
      " [1. 2. 3. 4.]\n",
      " [0. 2. 3. 4.]]\n"
     ]
    }
   ],
   "source": [
    "n = 3\n",
    "m = 4\n",
    "print(\"step 0 - A is a zeros matrix\")\n",
    "A = np.zeros([n,m])\n",
    "print(\"A = \\n\", A, \"\\n\")\n",
    "\n",
    "print(\"step 1 - set to 1 the first component\")\n",
    "A[0][0] = 1.0\n",
    "print(\"A = \\n\", A, \"\\n\")\n",
    "\n",
    "print(\"step 2 - fill the second row of A\")\n",
    "A[1] = [1,2,3,4]\n",
    "print(\"A = \\n\", A, \"\\n\")\n",
    "\n",
    "print(\"step 3 - fill a part of the last row of A\")\n",
    "A[2][1:4] = [2,3,4]\n",
    "print(A)"
   ]
  },
  {
   "cell_type": "markdown",
   "metadata": {},
   "source": [
    "Les opérations de somme et de multiplication par un scalaire sont les mêmes que pour les vecteurs car les matrices sont aussi des tableaux:\n",
    "```Python\n",
    "A = np.array([ [1, 3], [-1, -3], [0, 1] ])\n",
    "B = np.array([ [-1, -3], [1, 3], [1, 0] ])\n",
    "C = A + B\n",
    "D = 2. * A - 3. * B\n",
    "```\n",
    "La commande pour le produit de deux matrices (à condition que le produit soit bien défini) et la commande `np.dot`. Par exemple:\n",
    "```Python\n",
    "print(np.dot(A,B))\n",
    "```\n",
    "Pour le produit $A\\times B$ ou encore \n",
    "```Python\n",
    "print(np.dot(A.transpose(),B))\n",
    "```\n",
    "pour le produit $^tA\\times B$.\n",
    "\n",
    "<font color=#3498DB>__Essayer le code ci-dessus__</font>"
   ]
  },
  {
   "cell_type": "code",
   "execution_count": 9,
   "metadata": {},
   "outputs": [
    {
     "name": "stdout",
     "output_type": "stream",
     "text": [
      "[[ 1  3]\n",
      " [-1 -3]\n",
      " [ 0  1]]\n",
      "[[-1 -3]\n",
      " [ 1  3]\n",
      " [ 1  0]]\n",
      "[[ -2  -6]\n",
      " [ -5 -18]]\n",
      "La transpose marche alors que le produit np.dot ne marche pas en raison d'une mauvaise dimension de matrice\n"
     ]
    }
   ],
   "source": [
    "A = np.array([ [1, 3], [-1, -3], [0, 1] ])\n",
    "B = np.array([ [-1, -3], [1, 3], [1, 0] ])\n",
    "#C = A + B\n",
    "#D = 2. * A - 3. * B\n",
    "\n",
    "print(A)\n",
    "print(B)\n",
    "print(np.dot(A.transpose(),B))\n",
    "print(\"La transpose marche alors que le produit np.dot ne marche pas en raison d'une mauvaise dimension de matrice\")"
   ]
  },
  {
   "cell_type": "markdown",
   "metadata": {},
   "source": [
    "La bibliothèque <font color=#F5B041>__NumPy__</font> permet aussi de faire de l'algèbre lineaire efficacement avec des fonctions prédéfinies (comme résoudre un système linéaire, calculer un déterminant, trouver les valeurs propres d'une matrice, etc...). Pour cela on fera appel à la commande `numpy.linalg as la`. \n",
    "\n",
    "Jeter un coup d'oeil à la documentation https://numpy.org/doc/stable/reference/routines.linalg.html."
   ]
  },
  {
   "cell_type": "markdown",
   "metadata": {},
   "source": [
    "## Matplotlib la bibliothèque pour les représentations graphiques\n",
    "Présentons rapidement <font color=#F5B041>__Matplotlib__</font> qui est une bibliothèque graphique de Python. Jeter un coup d'oeil à  https://matplotlib.org. On charge la biliothèque avec la commande `import matplotlib.pyplot as plt` où `plt` sera le raccourci standard pour appelé les fonctions de la bibliothèque. \n",
    "\n",
    "Le code suivant présente le tracé d'une courbe $y=\\cos(x)$ pour $x\\in [0,4\\pi]$.\n",
    "\n",
    "```Python\n",
    "# First we load the libraries \n",
    "import matplotlib.pyplot as plt\n",
    "import numpy as np\n",
    "from math import cos, pi\n",
    "# ------------------------- #\n",
    "# We compute the cos function over 0 to 4 pi\n",
    "N = 100\n",
    "x = np.zeros(N)\n",
    "y = np.zeros(N)\n",
    "dx = 4. * pi/float(N-1)\n",
    "for i in range(N):\n",
    "    x[i] = i * dx\n",
    "    y[i] = cos(x[i])\n",
    "# Now we can plot the curve:\n",
    "plt.plot(x,y)\n",
    "plt.xlabel('x')\n",
    "plt.ylabel('y')\n",
    "plt.title('cos function')\n",
    "# The last function plt.show() ask to show what you have defined for the plt object\n",
    "plt.show()\n",
    "```\n",
    "<font color=#3498DB>__Try the above code!__</font>"
   ]
  },
  {
   "cell_type": "code",
   "execution_count": 10,
   "metadata": {},
   "outputs": [
    {
     "data": {
      "image/png": "[encoded data removed]",
      "text/plain": [
       "<Figure size 640x480 with 1 Axes>"
      ]
     },
     "metadata": {},
     "output_type": "display_data"
    }
   ],
   "source": [
    "# First we load the libraries \n",
    "import matplotlib.pyplot as plt\n",
    "import numpy as np\n",
    "from math import cos, pi\n",
    "# ------------------------- #\n",
    "# We compute the cos function over 0 to 4 pi\n",
    "N = 100\n",
    "x = np.zeros(N)\n",
    "y = np.zeros(N)\n",
    "dx = 4. * pi/float(N-1)\n",
    "for i in range(N):\n",
    "    x[i] = i * dx\n",
    "    y[i] = cos(x[i])\n",
    "# Now we can plot the curve:\n",
    "plt.plot(x,y)\n",
    "plt.xlabel('x')\n",
    "plt.ylabel('y')\n",
    "plt.title('cos function')\n",
    "# The last function plt.show() ask to show what you have defined for the plt object\n",
    "plt.show()"
   ]
  },
  {
   "cell_type": "markdown",
   "metadata": {},
   "source": [
    "\n",
    "---\n",
    "\n",
    "## Lecture ou écriture de données ou ficher texte\n",
    "Pour différentes raison, on pourra voir à traiter des fichiers de données que ce soit pour alimenter un calcul avec des données d'entrée ou sauver les résultats d'un calcul. Considérons un exemple simple.\n",
    "\n",
    "On suppose que l'on a un fichier de donnée, appelé `data.dat`, qui contient deux colonnes:\n",
    "```\n",
    "0. 1\n",
    "1. 1.1\n",
    "2. 1.15\n",
    "3. 1.17\n",
    "4. 1.175\n",
    "5. 1.81\n",
    "6. 1.99\n",
    "7. 2.1\n",
    "8. 2.2\n",
    "9. 2.21\n",
    "```\n",
    "Vous pouvez lire ce fichier comme une donnée d'entrée de votre code comme suit:\n",
    "```Python\n",
    "file = open(\"data.dat\", \"r\") \n",
    "# the first argument is the name of the file to read,\n",
    "# the second one means that you just want to read it, not to write inside.\n",
    "# Now the file can be read:\n",
    "content = file.read()\n",
    "print( content )\n",
    "```\n",
    "Avec ce <font color=#F5B041>__Jupyter *Notebook*__</font>, il y a un fichier de donnée nommé `data.dat`. Essayer de lire ce fichier:\n",
    "\n",
    "```Python\n",
    "file = open(\"data.dat\", \"r\") # open the file \n",
    "content = file.read()\n",
    "# you can also try this one:\n",
    "# content = file.readlines()\n",
    "file.close() # always close the file when you are done\n",
    "print( content )\n",
    "```\n",
    "\n",
    "<font color=#3498DB>__Essayer le code ci-dessus__</font>"
   ]
  },
  {
   "cell_type": "code",
   "execution_count": 11,
   "metadata": {},
   "outputs": [
    {
     "name": "stdout",
     "output_type": "stream",
     "text": [
      "x  y\n",
      "0. 1\n",
      "1. 1.1\n",
      "2. 1.15\n",
      "3. 1.17\n",
      "4. 1.175\n",
      "5. 1.81\n",
      "6. 1.99\n",
      "7. 2.1\n",
      "8. 2.2\n",
      "9. 2.21\n"
     ]
    }
   ],
   "source": [
    "file = open(\"data.dat\", \"r\") # open the file \n",
    "content = file.read()\n",
    "# you can also try this one:\n",
    "# content = file.readlines()\n",
    "file.close() # always close the file when you are done\n",
    "print( content )"
   ]
  },
  {
   "cell_type": "code",
   "execution_count": null,
   "metadata": {},
   "outputs": [],
   "source": []
  },
  {
   "cell_type": "markdown",
   "metadata": {},
   "source": [
    "Le fichier ayant été lu correctement, on peut utiliser les données:\n",
    "```Python\n",
    "file = open(\"data.dat\", \"r\") # open the file \n",
    "content = file.readlines()\n",
    "file.close()\n",
    "\n",
    "# get access to the first line:\n",
    "print(\"First line: \", content[0])\n",
    "# split terms\n",
    "tmp = content[0].split()\n",
    "print(\"Elements of this line:\", tmp, \"\\n\" )\n",
    "\n",
    "# Lets' read the second line\n",
    "print(\"Second line: \", content[1] )\n",
    "tmp = content[1].split()\n",
    "print(\"Elements of this line:\", tmp , \"which are 'char' type (text), not numbers! \")\n",
    "# so we need to convert these chars\n",
    "a = float(tmp[0])\n",
    "b = float(tmp[1])\n",
    "print(a, b, a + b)\n",
    "```\n",
    "\n",
    "<font color=#3498DB>__Essayer le code ci-dessus__</font>"
   ]
  },
  {
   "cell_type": "code",
   "execution_count": 12,
   "metadata": {},
   "outputs": [
    {
     "name": "stdout",
     "output_type": "stream",
     "text": [
      "First line:  x  y\n",
      "\n",
      "Elements of this line: ['x', 'y'] \n",
      "\n",
      "Second line:  0. 1\n",
      "\n",
      "Elements of this line: ['0.', '1'] which are 'char' type (text), not numbers! \n",
      "0.0 1.0 1.0\n"
     ]
    }
   ],
   "source": [
    "file = open(\"data.dat\", \"r\") # open the file \n",
    "content = file.readlines()\n",
    "file.close()\n",
    "\n",
    "# get access to the first line:\n",
    "print(\"First line: \", content[0])\n",
    "# split terms\n",
    "tmp = content[0].split()\n",
    "print(\"Elements of this line:\", tmp, \"\\n\" )\n",
    "\n",
    "# Lets' read the second line\n",
    "print(\"Second line: \", content[1] )\n",
    "tmp = content[1].split()\n",
    "print(\"Elements of this line:\", tmp , \"which are 'char' type (text), not numbers! \")\n",
    "# so we need to convert these chars\n",
    "a = float(tmp[0])\n",
    "b = float(tmp[1])\n",
    "print(a, b, a + b)"
   ]
  },
  {
   "cell_type": "markdown",
   "metadata": {},
   "source": [
    "Essayons de représenter les données:\n",
    "```Python\n",
    "import numpy as np\n",
    "\n",
    "# Initialize containers to store the data\n",
    "n = len(content)\n",
    "x = np.zeros(n-1)\n",
    "y = np.zeros(n-1)\n",
    "\n",
    "for i in range(n-1):\n",
    "    tmp = content[i+1].split() # the i+1 is because the file starts with x and y\n",
    "    x[i] = float(tmp[0])\n",
    "    y[i] = float(tmp[1])\n",
    "\n",
    "# we can now plot the data \n",
    "import matplotlib.pyplot as plt\n",
    "plt.plot(x,y,\"*b\") # \"*b\" means I just want blue dot markers\n",
    "plt.show()\n",
    "```\n",
    "<font color=#3498DB>__Essayer le code ci-dessus__</font>"
   ]
  },
  {
   "cell_type": "code",
   "execution_count": 13,
   "metadata": {},
   "outputs": [
    {
     "data": {
      "image/png": "[encoded data removed]",
      "text/plain": [
       "<Figure size 640x480 with 1 Axes>"
      ]
     },
     "metadata": {},
     "output_type": "display_data"
    }
   ],
   "source": [
    "import numpy as np\n",
    "\n",
    "# Initialize containers to store the data\n",
    "n = len(content)\n",
    "x = np.zeros(n-1)\n",
    "y = np.zeros(n-1)\n",
    "\n",
    "for i in range(n-1):\n",
    "    tmp = content[i+1].split() # the i+1 is because the file starts with x and y\n",
    "    x[i] = float(tmp[0])\n",
    "    y[i] = float(tmp[1])\n",
    "\n",
    "# we can now plot the data \n",
    "import matplotlib.pyplot as plt\n",
    "plt.plot(x,y,\"*b\") # \"*b\" means I just want blue dot markers\n",
    "plt.show()"
   ]
  },
  {
   "cell_type": "markdown",
   "metadata": {},
   "source": [
    "Pour sauver les donnée, nous utilisons la même syntaxe mais avec l'option  `\"w\"` (write). On peut rajouter du contenu au fichier avec la commande `write()`: \n",
    "```Python\n",
    "output = open(\"my_outputs.dat\", \"w\")\n",
    "output.write(\"Here are my outputs \\n\") \n",
    "# you need to put \"\\n\"  at the end of a line\n",
    "for i in range(4):\n",
    "    output.write( str(i) + \"\\n\" )\n",
    "output.close()\n",
    "```\n",
    "<font color=#3498DB>__Essayer le code ci-dessus__</font>"
   ]
  },
  {
   "cell_type": "code",
   "execution_count": 14,
   "metadata": {},
   "outputs": [
    {
     "name": "stdout",
     "output_type": "stream",
     "text": [
      "Here are my outputs \n",
      "0\n",
      "1\n",
      "2\n",
      "3\n",
      "\n"
     ]
    }
   ],
   "source": [
    "output = open(\"my_outputs.dat\", \"w\")\n",
    "output.write(\"Here are my outputs \\n\") \n",
    "\n",
    "for i in range(4):\n",
    "    output.write( str(i) + \"\\n\" )\n",
    "output.close()\n",
    "\n",
    "output = open(\"my_outputs.dat\", \"r\")\n",
    "content = output.read()\n",
    "output.close()\n",
    "print(content)"
   ]
  },
  {
   "cell_type": "markdown",
   "metadata": {},
   "source": [
    "## Exercices"
   ]
  },
  {
   "cell_type": "markdown",
   "metadata": {},
   "source": [
    "### Calcul Matriciel\n",
    "\n",
    "1) On considère la matrice $$A=\\begin{pmatrix}\n",
    "4 & 5 & 6 & -1\\\\\n",
    "5 & 10 & 15 & 2\\\\\n",
    "6 & 15 & 1 & 4\\\\\n",
    "-1 & 2 & 4 & -2\n",
    "\\end{pmatrix}$$\n",
    "\n",
    "- Calculer le déterimnant de $A$,\n",
    "- Calculer les vecteurs propres et les valeurs propres de $A$\n",
    "- Calculer l'inverse de $A$\n",
    "\n",
    "2) On considère maintenant de taille $n\\times n$:\n",
    "\n",
    "$$B=\\begin{pmatrix}\n",
    "-1 & 2 &-1 & 0 & \\dots& \\dots & 0\\\\\n",
    "0 & -1 & 2 & -1 & 0 & \\dots & 0\\\\\n",
    "\\vdots & & & & & &  \\vdots\\\\\n",
    "0 & \\dots &\\dots &0 & -1 & 2 & -1\\\\\n",
    "0 & \\dots &\\dots &0 & 0 & -1 & 2\\\\\n",
    "\\end{pmatrix}$$\n",
    "\n",
    "- Créer $B$ pour $n=5, 10, 50$\n",
    "- Calculer les valeurs propres\n",
    "\n",
    "3) Constuire le système linéaire de votre choix sous forme matricielle et le résoudre avec Python."
   ]
  },
  {
   "cell_type": "code",
   "execution_count": 15,
   "metadata": {
    "scrolled": true
   },
   "outputs": [
    {
     "name": "stdout",
     "output_type": "stream",
     "text": [
      "\n",
      " Question 1.1 \n",
      "\n",
      "Déterminant A :  1732.9999999999995\n",
      "Arrondi déterminant A :  1733\n",
      "\n",
      " Question 1.2 \n",
      "\n",
      "Valeurs propres :  [ 24.49531701 -11.04368827   2.31528872  -2.76691746]\n",
      "Matrice vecteur propre : \n",
      " [[ 0.340821    0.16909822  0.86888096  0.31669026]\n",
      " [ 0.73157879  0.50754043 -0.24619324 -0.382863  ]\n",
      " [ 0.57611269 -0.80330147 -0.10808058  0.10544909]\n",
      " [ 0.12933558  0.26175418 -0.41563609  0.86139636]]\n",
      "\n",
      " Question 1.3 \n",
      "\n",
      "Inverse de A : \n",
      " [[ 0.29197923 -0.04616272 -0.03231391 -0.25678015]\n",
      " [-0.04616272 -0.02827467  0.08020773  0.15522216]\n",
      " [-0.03231391  0.08020773 -0.04385459  0.00865551]\n",
      " [-0.25678015  0.15522216  0.00865551 -0.19907675]]\n",
      "\n",
      " Question 2 \n",
      "\n",
      "Valeurs propres :  [3.73205081 3.         2.         0.26794919 1.        ] \n",
      "\n",
      "Matrice vecteur propre : \n",
      " [[ 2.88675135e-01  5.00000000e-01  5.77350269e-01  2.88675135e-01\n",
      "  -5.00000000e-01]\n",
      " [-5.00000000e-01 -5.00000000e-01 -8.85199041e-17  5.00000000e-01\n",
      "  -5.00000000e-01]\n",
      " [ 5.77350269e-01  1.92900356e-15 -5.77350269e-01  5.77350269e-01\n",
      "   1.09260986e-16]\n",
      " [-5.00000000e-01  5.00000000e-01 -3.97217852e-16  5.00000000e-01\n",
      "   5.00000000e-01]\n",
      " [ 2.88675135e-01 -5.00000000e-01  5.77350269e-01  2.88675135e-01\n",
      "   5.00000000e-01]] \n",
      "\n",
      "[[ 2. -1.  0.  0.  0.]\n",
      " [-1.  2. -1.  0.  0.]\n",
      " [ 0. -1.  2. -1.  0.]\n",
      " [ 0.  0. -1.  2. -1.]\n",
      " [ 0.  0.  0. -1.  2.]]\n",
      "\n",
      " QUESTION 3 \n",
      "\n",
      "Solutions du système de la matrice A avec 3,4,5,6 comme vecteurs : \n",
      " [-1.01096365  1.08078477  0.05654934 -1.30063474]\n"
     ]
    }
   ],
   "source": [
    "import numpy as np\n",
    "\n",
    "##### QUESTION 1.1\n",
    "\n",
    "A = np.array([ [4, 5, 6, -1], [5, 10, 15, 2], [6, 15, 1, 4], [-1, 2, 4, -2]])\n",
    "detA = np.linalg.det(A)\n",
    "\n",
    "print(\"\\n Question 1.1 \\n\")\n",
    "print(\"Déterminant A : \",detA)\n",
    "detAround = round(detA)\n",
    "print(\"Arrondi déterminant A : \", detAround)\n",
    "\n",
    "##### QUESTION 1.2\n",
    "\n",
    "print(\"\\n Question 1.2 \\n\")\n",
    "valp, vecp = np.linalg.eig(A)\n",
    "print(\"Valeurs propres : \",valp)\n",
    "print(\"Matrice vecteur propre : \\n\",vecp)\n",
    "\n",
    "##### QUESTION 1.3\n",
    "\n",
    "print(\"\\n Question 1.3 \\n\")\n",
    "inverseA = np.linalg.inv(A)\n",
    "print(\"Inverse de A : \\n\", inverseA)\n",
    "\n",
    "##### QUESTION 2.1\n",
    "\n",
    "base = np.array([-1,2,-1])            \n",
    "    \n",
    "    \n",
    "    \n",
    "#créer la matrice\n",
    "    \n",
    "def creerMatriceB(n):\n",
    "    # remplir de 0\n",
    "    B = np.zeros((n,n))\n",
    "    # remplacer successivement par -1,2,-1 en fonction des indices\n",
    "    for i in range (0,n):\n",
    "            B[i-1][i]=-1\n",
    "            B[i][i] = 2 \n",
    "            B[i][i-1]=-1\n",
    "    B[0][n-1]=0\n",
    "    B[n-1][0]=0\n",
    "    \n",
    "    valp, vecp = np.linalg.eig(B)\n",
    "    print(\"Valeurs propres : \",valp, \"\\n\")\n",
    "    print(\"Matrice vecteur propre : \\n\",vecp, \"\\n\")\n",
    "    \n",
    "    return B\n",
    "\n",
    "\n",
    "print(\"\\n Question 2 \\n\")\n",
    "print(creerMatriceB(5))\n",
    "#print(creerMatriceB(10))\n",
    "#print(creerMatriceB(50))\n",
    "\n",
    "\n",
    "##### QUESTION 3\n",
    "# résoudre un système\n",
    "def systeme(C):\n",
    "    \n",
    "    vecteur = np.array([3,4,5,6])\n",
    "    x = np.linalg.solve(A, vecteur)\n",
    "    \n",
    "    return x\n",
    "\n",
    "print(\"\\n QUESTION 3 \\n\")\n",
    "print(\"Solutions du système de la matrice A avec 3,4,5,6 comme vecteurs : \\n\",systeme(A))\n"
   ]
  },
  {
   "cell_type": "markdown",
   "metadata": {},
   "source": [
    "### Représentation graphique\n",
    "\n",
    "Visiter la page https://matplotlib.org/stable/plot_types/index.html et proposer une représentation graphique de la surface $z=x^2+y^2$. Comment peut-on représenter une sphère d'équation $x^2+y^2+z^2=1$ ? Représenter la surface d'équation $z^2=x^2+y^2$.\n"
   ]
  },
  {
   "cell_type": "code",
   "execution_count": 16,
   "metadata": {},
   "outputs": [
    {
     "data": {
      "image/png": "[encoded data removed]",
      "text/plain": [
       "<Figure size 640x480 with 1 Axes>"
      ]
     },
     "metadata": {},
     "output_type": "display_data"
    }
   ],
   "source": [
    "import matplotlib.pyplot as plt\n",
    "import numpy as np\n",
    "\n",
    "# équation pour dessiner une sphère\n",
    "u, v = np.mgrid[0:2 * np.pi:30j, 0:np.pi:20j]\n",
    "X = np.cos(u) * np.sin(v)\n",
    "Y = np.sin(u) * np.sin(v)\n",
    "Z = np.cos(v)\n",
    "\n",
    "# créer un espace 3D\n",
    "fig, ax = plt.subplots(subplot_kw={\"projection\": \"3d\"})\n",
    "ax.plot_surface(X, Y, Z, vmin=Z.min() * 2)\n",
    "\n",
    "#placer les axes\n",
    "\n",
    "ax.set(xticklabels=[],\n",
    "       yticklabels=[],\n",
    "       zticklabels=[])\n",
    "\n",
    "plt.show()"
   ]
  },
  {
   "cell_type": "markdown",
   "metadata": {},
   "source": [
    "### TD0\n",
    "\n",
    "Reprendre l'exercice 5 du TD0 et construire la représentation graphique de $x\\mapsto \\ln(1+x)$ et de son polynôme osculatoire $p$ de degré $999$ en $x=0$. Quelle est l'erreur commise pour $x=1$ lorsqu'on remplace la fonction $x\\mapsto \\ln(1+x)$ par $x\\mapsto p(x)$ ?"
   ]
  },
  {
   "cell_type": "code",
   "execution_count": 17,
   "metadata": {
    "scrolled": false
   },
   "outputs": [
    {
     "data": {
      "image/png": "[encoded data removed]",
      "text/plain": [
       "<Figure size 1000x500 with 1 Axes>"
      ]
     },
     "metadata": {},
     "output_type": "display_data"
    },
    {
     "name": "stdout",
     "output_type": "stream",
     "text": [
      "Résultat pour x=1 :  0.6926464295588213\n",
      "Pour avoir l'erreur commise, il faut soustraire | ln(1+x) - poly(999,1) | soit :  0.0005007510011240113\n",
      "Vu que le développement limité est pour x->0, le polynome d'interpolation est correct pour x compris en 0 et 1 inclus\n"
     ]
    }
   ],
   "source": [
    "import numpy as np\n",
    "import matplotlib.pyplot as plt\n",
    "\n",
    "# tracer la courbe ln(1+x)\n",
    "x = np.linspace(0, 100, 70)\n",
    "y = np.log(1+x)\n",
    "\n",
    "# dimensionner le graph\n",
    "fig = plt.figure(figsize = (10, 5))\n",
    "plt.plot(x, y, linewidth=1)\n",
    "\n",
    "# fonction du polynome d'interpolation avec n le degré à atteindre et x, la valeur à remplacer\n",
    "def poly(n,x):\n",
    "    result = 0\n",
    "    for i in range(1,n,1):\n",
    "        result = result + ((-1)**(i-1))*((x**i)/i)\n",
    "    return result\n",
    "\n",
    "\n",
    "# placer des points en fonction d'un x entre 0 et 1\n",
    "plt.scatter(0,poly(999,0))\n",
    "plt.scatter(0.2,poly(999,0.2))\n",
    "plt.scatter(0.4,poly(999,0.4))\n",
    "plt.scatter(0.6,poly(999,0.6))\n",
    "plt.scatter(0.8,poly(999,0.8))\n",
    "plt.scatter(1,poly(999,1))\n",
    "\n",
    "# montrer le graph\n",
    "plt.show()\n",
    "\n",
    "print(\"Résultat pour x=1 : \",poly(999,1))\n",
    "print(\"Pour avoir l'erreur commise, il faut soustraire | ln(1+x) - poly(999,1) | soit : \", abs(np.log(1+1)-poly(999,1)))\n",
    "print(\"Vu que le développement limité est pour x->0, le polynome d'interpolation est correct pour x compris en 0 et 1 inclus\")"
   ]
  },
  {
   "cell_type": "code",
   "execution_count": 17,
   "metadata": {},
   "outputs": [
    {
     "name": "stdout",
     "output_type": "stream",
     "text": [
      "TP par Maxime SZATKOWSKI & Célia LEICHTNAM \n"
     ]
    }
   ],
   "source": [
    "print(\"TP par Maxime SZATKOWSKI & Célia LEICHTNAM \")"
   ]
  },
  {
   "cell_type": "code",
   "execution_count": null,
   "metadata": {},
   "outputs": [],
   "source": []
  }
 ],
 "metadata": {
  "kernelspec": {
   "display_name": "Python 3 (ipykernel)",
   "language": "python",
   "name": "python3"
  },
  "language_info": {
   "codemirror_mode": {
    "name": "ipython",
    "version": 3
   },
   "file_extension": ".py",
   "mimetype": "text/x-python",
   "name": "python",
   "nbconvert_exporter": "python",
   "pygments_lexer": "ipython3",
   "version": "3.9.10"
  }
 },
 "nbformat": 4,
 "nbformat_minor": 4
}
